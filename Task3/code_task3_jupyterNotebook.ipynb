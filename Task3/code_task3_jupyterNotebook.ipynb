{
 "cells": [
  {
   "cell_type": "code",
   "execution_count": 1,
   "id": "1697eef3",
   "metadata": {},
   "outputs": [],
   "source": [
    "def compute(n):\n",
    "    if n < 10:\n",
    "        out = n ** 2\n",
    "    elif n < 20:\n",
    "        out = 1\n",
    "        for i in range(1, n-9): #here the range changed to n-9 so for i/p: n=15 we run loop (15-9=6)\n",
    "                                 # i.e from 1 till less than 6(i.e. till 5)\n",
    "                                   #so we get 5! ans\n",
    "            out *= i \n",
    "    else:\n",
    "        lim = n - 19   #here range changed to n-19 so for i/p: n=25, lim=6 then out=((6*6)-6)/2 => out=15\n",
    "        out = lim * lim  #decreasing from lim =n-20 to n-19 to retrieve he complete range in formula of sum of First N natural \n",
    "        out = out - lim   #numbers\n",
    "        out = out / 2 \n",
    "    print(out)"
   ]
  },
  {
   "cell_type": "code",
   "execution_count": 2,
   "id": "f3fe55f1",
   "metadata": {},
   "outputs": [
    {
     "name": "stdout",
     "output_type": "stream",
     "text": [
      "Enter an integer: 5\n",
      "25\n"
     ]
    }
   ],
   "source": [
    "n=int(input(\"Enter an integer: \"))\n",
    "compute(n)\n"
   ]
  },
  {
   "cell_type": "code",
   "execution_count": null,
   "id": "f01bec86",
   "metadata": {},
   "outputs": [],
   "source": []
  }
 ],
 "metadata": {
  "kernelspec": {
   "display_name": "Python 3 (ipykernel)",
   "language": "python",
   "name": "python3"
  },
  "language_info": {
   "codemirror_mode": {
    "name": "ipython",
    "version": 3
   },
   "file_extension": ".py",
   "mimetype": "text/x-python",
   "name": "python",
   "nbconvert_exporter": "python",
   "pygments_lexer": "ipython3",
   "version": "3.11.3"
  }
 },
 "nbformat": 4,
 "nbformat_minor": 5
}
