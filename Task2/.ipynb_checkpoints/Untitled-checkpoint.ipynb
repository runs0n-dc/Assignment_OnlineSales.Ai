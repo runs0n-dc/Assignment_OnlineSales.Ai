{
 "cells": [
  {
   "cell_type": "code",
   "execution_count": 1,
   "id": "0a379009",
   "metadata": {},
   "outputs": [],
   "source": [
    "import pandas as pd"
   ]
  },
  {
   "cell_type": "code",
   "execution_count": 8,
   "id": "c85fab21",
   "metadata": {},
   "outputs": [],
   "source": [
    "departments=pd.read_csv(\"C:/Users/1707d/Desktop/thapar/data/Departments.csv\")"
   ]
  },
  {
   "cell_type": "code",
   "execution_count": 5,
   "id": "d3429f3f",
   "metadata": {},
   "outputs": [],
   "source": [
    "salaries=pd.read_csv(\"C:/Users/1707d/Desktop/thapar/data/Salaries.csv\")"
   ]
  },
  {
   "cell_type": "code",
   "execution_count": 6,
   "id": "8527855d",
   "metadata": {},
   "outputs": [],
   "source": [
    "employees=pd.read_csv(\"C:/Users/1707d/Desktop/thapar/data/Employees.csv\")"
   ]
  },
  {
   "cell_type": "code",
   "execution_count": 23,
   "id": "ee49d988",
   "metadata": {},
   "outputs": [],
   "source": [
    "d1=pd.merge(departments,employees,left_on='ID',right_on=\"DEPT ID\")"
   ]
  },
  {
   "cell_type": "code",
   "execution_count": 26,
   "id": "0c906372",
   "metadata": {},
   "outputs": [],
   "source": [
    "d2=pd.merge(d1,salaries,left_on=\"ID_y\",right_on=\"EMP_ID\")"
   ]
  },
  {
   "cell_type": "code",
   "execution_count": 31,
   "id": "1febf031",
   "metadata": {},
   "outputs": [],
   "source": [
    "res=d2.groupby(['NAME_x'])['AMT (USD)'].mean()"
   ]
  },
  {
   "cell_type": "code",
   "execution_count": 52,
   "id": "1726f621",
   "metadata": {},
   "outputs": [],
   "source": [
    "res=res.rename_axis('DEPT_NAME').rename('AVG_MONTHLY_SALARY (USD)')"
   ]
  },
  {
   "cell_type": "code",
   "execution_count": 53,
   "id": "a0bd14cc",
   "metadata": {},
   "outputs": [
    {
     "data": {
      "text/plain": [
       "DEPT_NAME\n",
       "Sales      7045.16129\n",
       "Ops        6420.00000\n",
       "Finance    6360.31746\n",
       "Name: AVG_MONTHLY_SALARY (USD), dtype: float64"
      ]
     },
     "execution_count": 53,
     "metadata": {},
     "output_type": "execute_result"
    }
   ],
   "source": [
    "res.sort_values(ascending=False).head(3)"
   ]
  },
  {
   "cell_type": "code",
   "execution_count": null,
   "id": "78e62c8f",
   "metadata": {},
   "outputs": [],
   "source": []
  }
 ],
 "metadata": {
  "kernelspec": {
   "display_name": "Python 3 (ipykernel)",
   "language": "python",
   "name": "python3"
  },
  "language_info": {
   "codemirror_mode": {
    "name": "ipython",
    "version": 3
   },
   "file_extension": ".py",
   "mimetype": "text/x-python",
   "name": "python",
   "nbconvert_exporter": "python",
   "pygments_lexer": "ipython3",
   "version": "3.11.3"
  }
 },
 "nbformat": 4,
 "nbformat_minor": 5
}
